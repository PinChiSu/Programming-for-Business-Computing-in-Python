{
 "cells": [
  {
   "cell_type": "code",
   "execution_count": 1,
   "metadata": {},
   "outputs": [
    {
     "name": "stdout",
     "output_type": "stream",
     "text": [
      "6 9 99 4 0.03 0.08 0.07 0.15 0.01 0.01 0.03 0.01 0.01 0.0 0.0 0.0 0.0 0.0 0.0 0.0 0.0 0.0 0.0 0.0 0.0 0.0 0.0 0.0 0.0 0.0 0.0 0.0 0.0 0.0 0.0 0.0 0.0 0.0 0.0 0.0 0.0 0.0 0.0 0.0 0.0 0.0 0.0 0.0 0.1 0.0 0.0 0.0 0.06 0.0 0.0 0.0 0.05 0.0 0.0 0.0 0.0 0.0 0.04 0.0 0.0 0.0 0.05 0.0 0.0 0.0 0.0 0.0 0.0 0.0 0.0 0.0 0.0 0.0 0.0 0.0 0.03 0.0 0.0 0.0 0.0 0.0 0.0 0.1 0.0 0.0 0.0 0.0 0.07 0.0 0.0 0.0 0.0 0.0 0.0 0.0 0.0 0.04 0.04 0.02\n"
     ]
    }
   ],
   "source": [
    "# 使用者依序輸入N+5個數值，依序為c,r,N,s,p0,...,pN\n",
    "\n",
    "data = input().split()"
   ]
  },
  {
   "cell_type": "code",
   "execution_count": 2,
   "metadata": {},
   "outputs": [
    {
     "name": "stdout",
     "output_type": "stream",
     "text": [
      "[6, 9, 99, 4] [0.03, 0.08, 0.07, 0.15, 0.01, 0.01, 0.03, 0.01, 0.01, 0.0, 0.0, 0.0, 0.0, 0.0, 0.0, 0.0, 0.0, 0.0, 0.0, 0.0, 0.0, 0.0, 0.0, 0.0, 0.0, 0.0, 0.0, 0.0, 0.0, 0.0, 0.0, 0.0, 0.0, 0.0, 0.0, 0.0, 0.0, 0.0, 0.0, 0.0, 0.0, 0.0, 0.0, 0.0, 0.1, 0.0, 0.0, 0.0, 0.06, 0.0, 0.0, 0.0, 0.05, 0.0, 0.0, 0.0, 0.0, 0.0, 0.04, 0.0, 0.0, 0.0, 0.05, 0.0, 0.0, 0.0, 0.0, 0.0, 0.0, 0.0, 0.0, 0.0, 0.0, 0.0, 0.0, 0.0, 0.03, 0.0, 0.0, 0.0, 0.0, 0.0, 0.0, 0.1, 0.0, 0.0, 0.0, 0.0, 0.07, 0.0, 0.0, 0.0, 0.0, 0.0, 0.0, 0.0, 0.0, 0.04, 0.04, 0.02]\n"
     ]
    }
   ],
   "source": [
    "#將輸入值轉為int,float\n",
    "\n",
    "cost = []\n",
    "pr = []\n",
    "\n",
    "for i in range(len(data)):\n",
    "    if i < 4:\n",
    "        cost.append(int(data[i]))\n",
    "    else :\n",
    "        pr.append(float(data[i]))\n",
    "        \n",
    "print(cost,pr)"
   ]
  },
  {
   "cell_type": "code",
   "execution_count": 3,
   "metadata": {},
   "outputs": [
    {
     "name": "stdout",
     "output_type": "stream",
     "text": [
      "52 52\n"
     ]
    }
   ],
   "source": [
    "#計算預期報酬 maxre\n",
    "#cost順序 c,r,N,s\n",
    "#now為現在計算之期望值,best為最佳解,last為出貨量最後之計算,maxre為最佳解\n",
    "now = 0.0\n",
    "best = 0\n",
    "last = 0.0\n",
    "maxre = 0.0\n",
    "#i為假設有多少訂貨量時(q=?)\n",
    "for i in range(len(pr)):\n",
    "    now = 0.0\n",
    "    last = 0.0\n",
    "    #j為假設有當訂貨量為q時，客人買幾本的機率\n",
    "    for j in range(i + 1):\n",
    "        #算式為(jr-ci+(i-j)s)Pj,再用now來做累加\n",
    "        #當客人全買(q=Pq)時，機率變為1-Pq\n",
    "        if j == i:\n",
    "            now += (j * cost[1] - i * cost[0] + (i - j) * cost[3]) * (1 - last)\n",
    "        else:\n",
    "            now += (j * cost[1] - i * cost[0] + (i - j) * cost[3]) * pr[j]\n",
    "        last += pr[j]\n",
    "        #print(now)\n",
    "    #如果現在的q比較大，換掉最大預期利潤\n",
    "    if now > maxre:\n",
    "        maxre = now\n",
    "        best = i\n",
    "                \n",
    "print(best,int(maxre))\n"
   ]
  }
 ],
 "metadata": {
  "kernelspec": {
   "display_name": "Python 3",
   "language": "python",
   "name": "python3"
  },
  "language_info": {
   "codemirror_mode": {
    "name": "ipython",
    "version": 3
   },
   "file_extension": ".py",
   "mimetype": "text/x-python",
   "name": "python",
   "nbconvert_exporter": "python",
   "pygments_lexer": "ipython3",
   "version": "3.7.6"
  }
 },
 "nbformat": 4,
 "nbformat_minor": 4
}
