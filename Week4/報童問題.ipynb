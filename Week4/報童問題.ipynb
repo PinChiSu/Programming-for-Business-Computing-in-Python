{
 "cells": [
  {
   "cell_type": "code",
   "execution_count": 3,
   "metadata": {},
   "outputs": [
    {
     "name": "stdout",
     "output_type": "stream",
     "text": [
      "2\n",
      "10\n",
      "2\n",
      "2\n",
      "0.06\n",
      "<class 'float'>\n",
      "0.15\n",
      "<class 'float'>\n",
      "0.79\n",
      "<class 'float'>\n",
      "13.3\n"
     ]
    }
   ],
   "source": [
    "# 使用者依序輸入N+5個數值，依序為c,r,N,q,p0,...,pN\n",
    "\n",
    "c = int(input())\n",
    "r = int(input())\n",
    "N = int(input())\n",
    "q = int(input())\n",
    "\n",
    "#輸入p0....pN\n",
    "\n",
    "a = []\n",
    "for i in range(N+1):\n",
    "    a.append(float(input()))\n",
    "    \n",
    "#計算預期報酬\n",
    "\n",
    "sum = 0.0\n",
    "for i in range(N+1):\n",
    "    sum = sum + a[i] * ((i * r) - (q * c))\n",
    "\n",
    "print(sum)\n"
   ]
  },
  {
   "cell_type": "code",
   "execution_count": 2,
   "metadata": {},
   "outputs": [
    {
     "data": {
      "text/plain": [
       "0.01"
      ]
     },
     "execution_count": 2,
     "metadata": {},
     "output_type": "execute_result"
    }
   ],
   "source": [
    "0.06\n",
    "0.15\n",
    "0.22\n",
    "0.22\n",
    "0.17\n",
    "0.1\n",
    "0.05\n",
    "0.02\n",
    "0.01"
   ]
  },
  {
   "cell_type": "code",
   "execution_count": null,
   "metadata": {},
   "outputs": [],
   "source": []
  },
  {
   "cell_type": "code",
   "execution_count": null,
   "metadata": {},
   "outputs": [],
   "source": []
  }
 ],
 "metadata": {
  "kernelspec": {
   "display_name": "Python 3",
   "language": "python",
   "name": "python3"
  },
  "language_info": {
   "codemirror_mode": {
    "name": "ipython",
    "version": 3
   },
   "file_extension": ".py",
   "mimetype": "text/x-python",
   "name": "python",
   "nbconvert_exporter": "python",
   "pygments_lexer": "ipython3",
   "version": "3.7.6"
  }
 },
 "nbformat": 4,
 "nbformat_minor": 4
}
