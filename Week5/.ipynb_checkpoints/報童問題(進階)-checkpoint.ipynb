{
 "cells": [
  {
   "cell_type": "code",
   "execution_count": 1,
   "metadata": {},
   "outputs": [
    {
     "name": "stdout",
     "output_type": "stream",
     "text": [
      "2 10 10 1 0.06 0.15 0.22 0.22 0.17 0.1 0.05 0.02 0.01 0.0 0.0\n"
     ]
    }
   ],
   "source": [
    "# 使用者依序輸入N+5個數值，依序為c,r,N,s,p0,...,pN\n",
    "\n",
    "data = input().split()"
   ]
  },
  {
   "cell_type": "code",
   "execution_count": 2,
   "metadata": {},
   "outputs": [
    {
     "name": "stdout",
     "output_type": "stream",
     "text": [
      "[2, 10, 10, 1] [0.06, 0.15, 0.22, 0.22, 0.17, 0.1, 0.05, 0.02, 0.01, 0.0, 0.0]\n"
     ]
    }
   ],
   "source": [
    "#將輸入值轉為int,float\n",
    "\n",
    "cost = []\n",
    "pr = []\n",
    "\n",
    "for i in range(len(data)):\n",
    "    if i < 4:\n",
    "        cost.append(int(data[i]))\n",
    "    else :\n",
    "        pr.append(float(data[i]))\n",
    "        \n",
    "print(cost,pr)"
   ]
  },
  {
   "cell_type": "code",
   "execution_count": 3,
   "metadata": {},
   "outputs": [
    {
     "name": "stdout",
     "output_type": "stream",
     "text": [
      "0.0\n",
      "-0.06\n",
      "7.46\n",
      "-0.12\n",
      "0.93\n",
      "13.57\n",
      "-0.18\n",
      "0.72\n",
      "4.02\n",
      "17.700000000000003\n",
      "-0.24\n",
      "0.51\n",
      "3.59\n",
      "8.649999999999999\n",
      "19.849999999999998\n",
      "-0.3\n",
      "0.3\n",
      "3.1599999999999997\n",
      "8.0\n",
      "13.27\n",
      "20.47\n",
      "-0.36\n",
      "0.08999999999999997\n",
      "2.73\n",
      "7.35\n",
      "12.45\n",
      "16.35\n",
      "20.189999999999998\n",
      "-0.42\n",
      "-0.12\n",
      "2.3\n",
      "6.7\n",
      "11.63\n",
      "15.430000000000001\n",
      "17.78\n",
      "19.459999999999997\n",
      "-0.48\n",
      "-0.32999999999999996\n",
      "1.87\n",
      "6.05\n",
      "10.81\n",
      "14.510000000000002\n",
      "16.810000000000002\n",
      "17.910000000000004\n",
      "18.549999999999997\n",
      "-0.54\n",
      "-0.54\n",
      "1.44\n",
      "5.4\n",
      "9.990000000000002\n",
      "13.590000000000002\n",
      "15.840000000000002\n",
      "16.92\n",
      "17.55\n",
      "17.55\n",
      "-0.6\n",
      "-0.75\n",
      "1.01\n",
      "4.75\n",
      "9.17\n",
      "12.67\n",
      "14.870000000000001\n",
      "15.930000000000001\n",
      "16.55\n",
      "16.55\n",
      "16.55\n",
      "5 20\n"
     ]
    }
   ],
   "source": [
    "#計算預期報酬 maxre\n",
    "#cost順序 c,r,N,s\n",
    "#now為現在計算之期望值,best為最佳解,last為出貨量最後之計算,maxre為最佳解\n",
    "now = 0.0\n",
    "best = 0\n",
    "last = 0.0\n",
    "maxre = 0.0\n",
    "#i為假設有多少訂貨量時(q=?)\n",
    "for i in range(len(pr)):\n",
    "    now = 0.0\n",
    "    last = 0.0\n",
    "    #j為假設有當訂貨量為q時，客人買幾本的機率\n",
    "    for j in range(i + 1):\n",
    "        #算式為(jr-ci+(i-j)s)Pj,再用now來做累加\n",
    "        #當客人全買(q=Pq)時，機率變為1-Pq\n",
    "        if j == i:\n",
    "            now += (j * cost[1] - i * cost[0] + (i - j) * cost[3]) * (1 - last)\n",
    "        else:\n",
    "            now += (j * cost[1] - i * cost[0] + (i - j) * cost[3]) * pr[j]\n",
    "        last += pr[j]\n",
    "        print(now)\n",
    "    #如果現在的q比較大，換掉最大預期利潤\n",
    "    if now > maxre:\n",
    "        maxre = now\n",
    "        best = i\n",
    "                \n",
    "print(best,int(maxre))\n"
   ]
  },
  {
   "cell_type": "code",
   "execution_count": 4,
   "metadata": {},
   "outputs": [
    {
     "name": "stdout",
     "output_type": "stream",
     "text": [
      "0\n",
      "1\n"
     ]
    }
   ],
   "source": [
    "for i in range(2):\n",
    "    print(i)"
   ]
  },
  {
   "cell_type": "code",
   "execution_count": null,
   "metadata": {},
   "outputs": [],
   "source": []
  }
 ],
 "metadata": {
  "kernelspec": {
   "display_name": "Python 3",
   "language": "python",
   "name": "python3"
  },
  "language_info": {
   "codemirror_mode": {
    "name": "ipython",
    "version": 3
   },
   "file_extension": ".py",
   "mimetype": "text/x-python",
   "name": "python",
   "nbconvert_exporter": "python",
   "pygments_lexer": "ipython3",
   "version": "3.7.6"
  }
 },
 "nbformat": 4,
 "nbformat_minor": 4
}
