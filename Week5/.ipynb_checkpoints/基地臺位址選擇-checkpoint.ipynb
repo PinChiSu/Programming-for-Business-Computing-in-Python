{
 "cells": [
  {
   "cell_type": "code",
   "execution_count": 1,
   "metadata": {},
   "outputs": [],
   "source": [
    "import math"
   ]
  },
  {
   "cell_type": "code",
   "execution_count": 2,
   "metadata": {},
   "outputs": [
    {
     "name": "stdout",
     "output_type": "stream",
     "text": [
      "8 3 3 3 -2 10 -1 1 15 -1 4 10 3 2 20 4 3 20 -3 -4 25 2 -3 15 0 2 10\n"
     ]
    }
   ],
   "source": [
    "#input all the data,splited by n,p,d,dot[],num(dot seq)\n",
    "#前處理\n",
    "\n",
    "data = input().split()\n",
    "dot = []\n",
    "seq = -1\n",
    "n,p,d = 0,0,0\n",
    "for i in range(len(data)):\n",
    "    #let first 3 data = n,p,d\n",
    "    if(i <3):\n",
    "        if(i == 0):\n",
    "            n = int(data[0])\n",
    "        elif(i == 1):\n",
    "            p = int(data[1])\n",
    "        else:\n",
    "            d = int(data[2])\n",
    "        #next for loop\n",
    "        continue\n",
    "    #key in the dots\n",
    "    if(i%3 == 0):\n",
    "        seq +=1\n",
    "        dot.append([seq,int(data[i]),0,0,0])\n",
    "    elif(i%3 == 1):\n",
    "        dot[seq][2] = int(data[i])\n",
    "    else:\n",
    "        dot[seq][3] = int(data[i])\n"
   ]
  },
  {
   "cell_type": "code",
   "execution_count": 3,
   "metadata": {},
   "outputs": [],
   "source": [
    "#compute distance\n",
    "def distance(x1,x2,y1,y2):\n",
    "    xi = pow(dot[i][1] - dot[j][1],2)\n",
    "    yi = pow(dot[i][2] - dot[j][2],2)\n",
    "    dis = pow(xi + yi,0.5)\n",
    "    return dis"
   ]
  },
  {
   "cell_type": "code",
   "execution_count": 4,
   "metadata": {},
   "outputs": [],
   "source": [
    "#count the population\n",
    "def population(dis,d,popn,pop,seqi,seqj,samey):\n",
    "    if(dis <= d):\n",
    "        if(samey == 1):\n",
    "            return pop,seqi,seqj\n",
    "        pop += popn\n",
    "        seqi = 1\n",
    "        seqj = 1\n",
    "        return pop,seqi,seqj\n",
    "    else:\n",
    "        return pop,seqi,seqj"
   ]
  },
  {
   "cell_type": "code",
   "execution_count": 5,
   "metadata": {},
   "outputs": [],
   "source": [
    "#compare max town\n",
    "def maxtown(seq,popn,maxt,binary,includet,time):\n",
    "    result = []\n",
    "    k2 = [0]*n\n",
    "    if(popn > maxt[1]):\n",
    "        result = [seq,popn]\n",
    "        return result,binary\n",
    "    else:\n",
    "        result = [maxt[0],maxt[1]]\n",
    "        if(time == 0):\n",
    "            binary = k2\n",
    "        else:\n",
    "            binary = includet\n",
    "        return result,binary\n",
    "         "
   ]
  },
  {
   "cell_type": "code",
   "execution_count": 6,
   "metadata": {},
   "outputs": [],
   "source": [
    "#main()\n",
    "\n",
    "#do p times,find out towns\n",
    "#maxt means the maxtown now[whichone,population]\n",
    "#k is a binary to check if the town is include the signal\n",
    "dis = 0.0\n",
    "maxt = [0,0.0]\n",
    "pop = 0\n",
    "b = [0]*n\n",
    "k = [0]*n\n",
    "final = [0]*(p+1)"
   ]
  },
  {
   "cell_type": "code",
   "execution_count": 7,
   "metadata": {},
   "outputs": [
    {
     "name": "stdout",
     "output_type": "stream",
     "text": [
      "[1, 0, 0, 0, 0, 0, 1, 0]\n",
      "[0, 25]\n",
      "=\n",
      "[1, 1, 1, 0, 0, 0, 1, 1]\n",
      "[1, 35]\n",
      "=\n",
      "[1, 1, 1, 0, 0, 0, 1, 1]\n",
      "[1, 35]\n",
      "=\n",
      "[1, 1, 1, 1, 1, 0, 1, 1]\n",
      "[3, 50]\n",
      "=\n",
      "[1, 1, 1, 1, 1, 0, 1, 1]\n",
      "[3, 50]\n",
      "=\n",
      "[1, 1, 1, 1, 1, 0, 1, 1]\n",
      "[3, 50]\n",
      "=\n",
      "[1, 1, 1, 1, 1, 0, 1, 1]\n",
      "[3, 50]\n",
      "=\n",
      "[1, 1, 1, 1, 1, 0, 1, 1]\n",
      "[7, 55]\n",
      "=\n",
      "===================\n",
      "[1, 1, 1, 1, 1, 0, 1, 1]\n",
      "[1, 1, 1, 1, 1, 0, 1, 1]\n",
      "[0, 0.0]\n",
      "=\n",
      "[1, 1, 1, 1, 1, 0, 1, 1]\n",
      "[0, 0.0]\n",
      "=\n",
      "[1, 1, 1, 1, 1, 0, 1, 1]\n",
      "[0, 0.0]\n",
      "=\n",
      "[1, 1, 1, 1, 1, 0, 1, 1]\n",
      "[0, 0.0]\n",
      "=\n",
      "[1, 1, 1, 1, 1, 0, 1, 1]\n",
      "[0, 0.0]\n",
      "=\n",
      "[1, 1, 1, 1, 1, 0, 1, 1]\n",
      "[5, 25]\n",
      "=\n",
      "[1, 1, 1, 1, 1, 0, 1, 1]\n",
      "[5, 25]\n",
      "=\n",
      "[1, 1, 1, 1, 1, 0, 1, 1]\n",
      "[5, 25]\n",
      "=\n",
      "===================\n",
      "[1, 1, 1, 1, 1, 0, 1, 1]\n",
      "[1, 1, 1, 1, 1, 0, 1, 1]\n",
      "[0, 0.0]\n",
      "=\n",
      "[1, 1, 1, 1, 1, 0, 1, 1]\n",
      "[0, 0.0]\n",
      "=\n",
      "[1, 1, 1, 1, 1, 0, 1, 1]\n",
      "[0, 0.0]\n",
      "=\n",
      "[1, 1, 1, 1, 1, 0, 1, 1]\n",
      "[0, 0.0]\n",
      "=\n",
      "[1, 1, 1, 1, 1, 0, 1, 1]\n",
      "[0, 0.0]\n",
      "=\n",
      "[1, 1, 1, 1, 1, 0, 1, 1]\n",
      "[5, 25]\n",
      "=\n",
      "[1, 1, 1, 1, 1, 0, 1, 1]\n",
      "[5, 25]\n",
      "=\n",
      "[1, 1, 1, 1, 1, 0, 1, 1]\n",
      "[5, 25]\n",
      "=\n",
      "===================\n",
      "[1, 1, 1, 1, 1, 0, 1, 1]\n"
     ]
    }
   ],
   "source": [
    "#decide p times,choose the town\n",
    "for t in range(p):\n",
    "    #fresh the binary\n",
    "    #for renew in range(n):\n",
    "    #    dot[renew][4] = 0\n",
    "    #what town computing now\n",
    "    for i in range(n):\n",
    "        pop = 0\n",
    "        pop = dot[i][3]\n",
    "        #print(\"test\")\n",
    "        #count distance,population,decide maxtown\n",
    "        for j in range(n):\n",
    "            #print(\"num\",i,j)\n",
    "            if(j == i):\n",
    "                #print(\"same\")\n",
    "                continue\n",
    "            dis = distance(dot[i][1],dot[j][1],dot[i][2],dot[j][2])\n",
    "            pop,b[i],b[j] = population(dis,d,dot[j][3],pop,b[i],b[j],k[j])\n",
    "        if(k[i] == 1):\n",
    "            pop -= dot[i][3]\n",
    "        maxt,b = maxtown(i,pop,maxt,b,k,t)\n",
    "        print(b)\n",
    "        print(maxt)\n",
    "        print(\"=\")\n",
    "    #print(maxt)\n",
    "    #put in the binary in k \n",
    "    for check in range(n):\n",
    "        if(k[check] == 1):\n",
    "            continue\n",
    "        k[check] = b[check]\n",
    "    print(\"===================\")\n",
    "    print(k)\n",
    "    #final result memory\n",
    "    final[t] = maxt[0]\n",
    "    final[p] += maxt[1] \n",
    "    #renew maxt(new town to choose)\n",
    "    maxt = [0,0.0]\n"
   ]
  },
  {
   "cell_type": "code",
   "execution_count": 8,
   "metadata": {
    "scrolled": true
   },
   "outputs": [
    {
     "name": "stdout",
     "output_type": "stream",
     "text": [
      "8\n",
      "6\n",
      "6\n",
      "105\n"
     ]
    }
   ],
   "source": [
    "#print out the result\n",
    "for r in range(len(final)):\n",
    "    if(r == len(final)-1):\n",
    "        print(final[r])\n",
    "        break\n",
    "    print(final[r]+1)"
   ]
  },
  {
   "cell_type": "code",
   "execution_count": 9,
   "metadata": {},
   "outputs": [],
   "source": [
    "#count the distance between two towns,and determing how mant people inside the area\n",
    "#dis means distance between two towns,town means which town is coverd\n",
    "#maxp to decide the position,pop means how many people are coverd\n",
    "#final means printout\n",
    "#def dis(n,d,p,dot):\n",
    "#    dis = 0.0\n",
    "#    town = []\n",
    "#    maxp = [0,0.0]\n",
    "#    pop = 0\n",
    "#    final = []\n",
    "#    for k in range(p):\n",
    "#        \n",
    "#        for i in range(n):\n",
    "#            #when the i th town,count distance,comperessing with d\n",
    "#            #this town its own population\n",
    "#            pop = dot[i][2]\n",
    "#            town = []\n",
    "#            for j in range(n):\n",
    "#                if(j == i):\n",
    "#                    break\n",
    "#                xi = pow(dot[i][1] - dot[j][1],2)\n",
    "#                yi = pow(dot[i][2] - dot[j][2],2)\n",
    "#                dis = pow(xi + yi,0.5)\n",
    "#                #if dis >= d,inside the signal area\n",
    "#                if dis >= d:\n",
    "#                pop += dot[j][2]\n",
    "#                town.append(j)\n",
    "#            #only more popular change the decision\n",
    "#            if pop > maxp[1]:\n",
    "#                maxp[0] = i\n",
    "#                maxp[1] = pop\n",
    "#                maxp.append(town)\n",
    "#        final.append(maxp)\n",
    "#        \n",
    "#    return final"
   ]
  },
  {
   "cell_type": "code",
   "execution_count": 10,
   "metadata": {},
   "outputs": [],
   "source": [
    "##print the outline\n",
    "#for i in range(len(final)):\n",
    "#    if(i == len(final) -2):\n",
    "#        print(final[i][2])\n",
    "#    print(final[i][0])\n",
    "#    "
   ]
  },
  {
   "cell_type": "code",
   "execution_count": null,
   "metadata": {},
   "outputs": [],
   "source": []
  }
 ],
 "metadata": {
  "kernelspec": {
   "display_name": "Python 3",
   "language": "python",
   "name": "python3"
  },
  "language_info": {
   "codemirror_mode": {
    "name": "ipython",
    "version": 3
   },
   "file_extension": ".py",
   "mimetype": "text/x-python",
   "name": "python",
   "nbconvert_exporter": "python",
   "pygments_lexer": "ipython3",
   "version": "3.7.6"
  }
 },
 "nbformat": 4,
 "nbformat_minor": 4
}
