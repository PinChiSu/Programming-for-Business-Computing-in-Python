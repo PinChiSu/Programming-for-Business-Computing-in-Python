{
 "cells": [
  {
   "cell_type": "code",
   "execution_count": 1,
   "metadata": {},
   "outputs": [],
   "source": [
    "import math"
   ]
  },
  {
   "cell_type": "code",
   "execution_count": 18,
   "metadata": {},
   "outputs": [
    {
     "name": "stdout",
     "output_type": "stream",
     "text": [
      "8 3 3 3 -2 10 -1 1 15 -1 4 10 3 2 20 4 3 20 -3 -4 25 2 -3 15 0 2 10\n",
      "[[0, 3, -2, 10, 0], [1, -1, 1, 15, 0], [2, -1, 4, 10, 0], [3, 3, 2, 20, 0], [4, 4, 3, 20, 0], [5, -3, -4, 25, 0], [6, 2, -3, 15, 0], [7, 0, 2, 10, 0]]\n"
     ]
    },
    {
     "ename": "TypeError",
     "evalue": "list indices must be integers or slices, not tuple",
     "output_type": "error",
     "traceback": [
      "\u001b[1;31m---------------------------------------------------------------------------\u001b[0m",
      "\u001b[1;31mTypeError\u001b[0m                                 Traceback (most recent call last)",
      "\u001b[1;32m<ipython-input-18-a1fa8bf70e5b>\u001b[0m in \u001b[0;36m<module>\u001b[1;34m\u001b[0m\n\u001b[0;32m     27\u001b[0m \u001b[1;33m\u001b[0m\u001b[0m\n\u001b[0;32m     28\u001b[0m \u001b[0mprint\u001b[0m\u001b[1;33m(\u001b[0m\u001b[0mdot\u001b[0m\u001b[1;33m)\u001b[0m\u001b[1;33m\u001b[0m\u001b[1;33m\u001b[0m\u001b[0m\n\u001b[1;32m---> 29\u001b[1;33m \u001b[0mdot\u001b[0m\u001b[1;33m[\u001b[0m\u001b[1;33m:\u001b[0m\u001b[1;33m,\u001b[0m\u001b[1;33m:\u001b[0m\u001b[1;33m,\u001b[0m\u001b[1;33m:\u001b[0m\u001b[1;33m,\u001b[0m\u001b[1;33m:\u001b[0m\u001b[1;33m,\u001b[0m\u001b[1;36m4\u001b[0m\u001b[1;33m]\u001b[0m \u001b[1;33m=\u001b[0m \u001b[1;36m1\u001b[0m\u001b[1;33m\u001b[0m\u001b[1;33m\u001b[0m\u001b[0m\n\u001b[0m\u001b[0;32m     30\u001b[0m \u001b[0mprint\u001b[0m\u001b[1;33m(\u001b[0m\u001b[0mdot\u001b[0m\u001b[1;33m)\u001b[0m\u001b[1;33m\u001b[0m\u001b[1;33m\u001b[0m\u001b[0m\n",
      "\u001b[1;31mTypeError\u001b[0m: list indices must be integers or slices, not tuple"
     ]
    }
   ],
   "source": [
    "#input all the data,splited by n,p,d,dot[],num(dot seq)\n",
    "#前處理\n",
    "\n",
    "data = input().split()\n",
    "dot = []\n",
    "seq = -1\n",
    "n,p,d = 0,0,0\n",
    "for i in range(len(data)):\n",
    "    #let first 3 data = n,p,d\n",
    "    if(i <3):\n",
    "        if(i == 0):\n",
    "            n = int(data[0])\n",
    "        elif(i == 1):\n",
    "            p = int(data[1])\n",
    "        else:\n",
    "            d = int(data[2])\n",
    "        #next for loop\n",
    "        continue\n",
    "    #key in the dots\n",
    "    if(i%3 == 0):\n",
    "        seq +=1\n",
    "        dot.append([seq,int(data[i]),0,0,0])\n",
    "    elif(i%3 == 1):\n",
    "        dot[seq][2] = int(data[i])\n",
    "    else:\n",
    "        dot[seq][3] = int(data[i])\n"
   ]
  },
  {
   "cell_type": "code",
   "execution_count": 3,
   "metadata": {},
   "outputs": [],
   "source": [
    "#compute distance\n",
    "def distance(x1,x2,y1,y2):\n",
    "    xi = pow(dot[i][1] - dot[j][1],2)\n",
    "    yi = pow(dot[i][2] - dot[j][2],2)\n",
    "    dis = pow(xi + yi,0.5)\n",
    "    return dis"
   ]
  },
  {
   "cell_type": "code",
   "execution_count": 4,
   "metadata": {},
   "outputs": [],
   "source": [
    "#compare the maxtown,return it\n",
    "#def maxtown(a,maxt):\n",
    "    \n",
    "    \n",
    "    "
   ]
  },
  {
   "cell_type": "code",
   "execution_count": 5,
   "metadata": {},
   "outputs": [],
   "source": [
    "#count the population\n",
    "def population(dis,d,popn,pop,seq):\n",
    "    if(dis <= d):\n",
    "        pop += popn\n",
    "        seq = 1\n",
    "        return pop,seq\n",
    "    else:\n",
    "        return pop"
   ]
  },
  {
   "cell_type": "code",
   "execution_count": 6,
   "metadata": {},
   "outputs": [],
   "source": [
    "#compare max town\n",
    "def maxtown(seq,popn,maxt):\n",
    "    result = []\n",
    "    if(popn > maxt[1]):\n",
    "        result = [seq,popn]\n",
    "        return result\n",
    "    else:\n",
    "        result = [maxt[0],maxt[1]]\n",
    "        return result\n",
    "    "
   ]
  },
  {
   "cell_type": "code",
   "execution_count": null,
   "metadata": {},
   "outputs": [],
   "source": [
    "#remove the point is counted\n"
   ]
  },
  {
   "cell_type": "code",
   "execution_count": 11,
   "metadata": {},
   "outputs": [
    {
     "name": "stdout",
     "output_type": "stream",
     "text": [
      "[0, 0, 0, 0, 0, 0, 0, 0]\n"
     ]
    }
   ],
   "source": [
    "#main()\n",
    "\n",
    "#do p times,find out towns\n",
    "#maxt means the maxtown now[whichone,population]\n",
    "#k is a binary to check if the town is include the signal\n",
    "dis = 0.0\n",
    "maxt = [0,0.0]\n",
    "pop = 0\n",
    "k = [0]*n"
   ]
  },
  {
   "cell_type": "code",
   "execution_count": 8,
   "metadata": {},
   "outputs": [
    {
     "name": "stdout",
     "output_type": "stream",
     "text": [
      "num 0 0\n",
      "same\n",
      "num 0 1\n",
      "num 0 2\n",
      "num 0 3\n",
      "num 0 4\n",
      "num 0 5\n",
      "num 0 6\n",
      "num 0 7\n",
      "[0, 25]\n",
      "num 1 0\n",
      "num 1 1\n",
      "same\n",
      "num 1 2\n",
      "num 1 3\n",
      "num 1 4\n",
      "num 1 5\n",
      "num 1 6\n",
      "num 1 7\n",
      "[1, 35]\n",
      "num 2 0\n",
      "num 2 1\n",
      "num 2 2\n",
      "same\n",
      "num 2 3\n",
      "num 2 4\n",
      "num 2 5\n",
      "num 2 6\n",
      "num 2 7\n",
      "[1, 35]\n",
      "num 3 0\n",
      "num 3 1\n",
      "num 3 2\n",
      "num 3 3\n",
      "same\n",
      "num 3 4\n",
      "num 3 5\n",
      "num 3 6\n",
      "num 3 7\n",
      "[3, 50]\n",
      "num 4 0\n",
      "num 4 1\n",
      "num 4 2\n",
      "num 4 3\n",
      "num 4 4\n",
      "same\n",
      "num 4 5\n",
      "num 4 6\n",
      "num 4 7\n",
      "[3, 50]\n",
      "num 5 0\n",
      "num 5 1\n",
      "num 5 2\n",
      "num 5 3\n",
      "num 5 4\n",
      "num 5 5\n",
      "same\n",
      "num 5 6\n",
      "num 5 7\n",
      "[3, 50]\n",
      "num 6 0\n",
      "num 6 1\n",
      "num 6 2\n",
      "num 6 3\n",
      "num 6 4\n",
      "num 6 5\n",
      "num 6 6\n",
      "same\n",
      "num 6 7\n",
      "[3, 50]\n",
      "num 7 0\n",
      "num 7 1\n",
      "num 7 2\n",
      "num 7 3\n",
      "num 7 4\n",
      "num 7 5\n",
      "num 7 6\n",
      "num 7 7\n",
      "same\n",
      "[7, 55]\n"
     ]
    }
   ],
   "source": [
    "#decide p times,choose the town\n",
    "for t in range(p):\n",
    "    #what town computing now\n",
    "    for renew in range(n):\n",
    "        dot[renew][4] = 0\n",
    "    for i in range(n):\n",
    "        pop = 0\n",
    "        pop = dot[i][3]\n",
    "        #print(\"test\")\n",
    "        #count distance,population,decide maxtown\n",
    "        for j in range(n):\n",
    "            print(\"num\",i,j)\n",
    "            if(j == i):\n",
    "                print(\"same\")\n",
    "                continue\n",
    "            dis = distance(dot[i][1],dot[j][1],dot[i][2],dot[j][2])\n",
    "            pop,dot[j][4] = population(dis,d,dot[j][3],pop,dot[j][4])\n",
    "        maxt = maxtown(i,pop,maxt)\n",
    "    \n",
    "    "
   ]
  },
  {
   "cell_type": "code",
   "execution_count": 9,
   "metadata": {},
   "outputs": [],
   "source": [
    "#count the distance between two towns,and determing how mant people inside the area\n",
    "#dis means distance between two towns,town means which town is coverd\n",
    "#maxp to decide the position,pop means how many people are coverd\n",
    "#final means printout\n",
    "#def dis(n,d,p,dot):\n",
    "#    dis = 0.0\n",
    "#    town = []\n",
    "#    maxp = [0,0.0]\n",
    "#    pop = 0\n",
    "#    final = []\n",
    "#    for k in range(p):\n",
    "#        \n",
    "#        for i in range(n):\n",
    "#            #when the i th town,count distance,comperessing with d\n",
    "#            #this town its own population\n",
    "#            pop = dot[i][2]\n",
    "#            town = []\n",
    "#            for j in range(n):\n",
    "#                if(j == i):\n",
    "#                    break\n",
    "#                xi = pow(dot[i][1] - dot[j][1],2)\n",
    "#                yi = pow(dot[i][2] - dot[j][2],2)\n",
    "#                dis = pow(xi + yi,0.5)\n",
    "#                #if dis >= d,inside the signal area\n",
    "#                if dis >= d:\n",
    "#                pop += dot[j][2]\n",
    "#                town.append(j)\n",
    "#            #only more popular change the decision\n",
    "#            if pop > maxp[1]:\n",
    "#                maxp[0] = i\n",
    "#                maxp[1] = pop\n",
    "#                maxp.append(town)\n",
    "#        final.append(maxp)\n",
    "#        \n",
    "#    return final"
   ]
  },
  {
   "cell_type": "code",
   "execution_count": 10,
   "metadata": {},
   "outputs": [],
   "source": [
    "##print the outline\n",
    "#for i in range(len(final)):\n",
    "#    if(i == len(final) -2):\n",
    "#        print(final[i][2])\n",
    "#    print(final[i][0])\n",
    "#    "
   ]
  },
  {
   "cell_type": "code",
   "execution_count": null,
   "metadata": {},
   "outputs": [],
   "source": []
  }
 ],
 "metadata": {
  "kernelspec": {
   "display_name": "Python 3",
   "language": "python",
   "name": "python3"
  },
  "language_info": {
   "codemirror_mode": {
    "name": "ipython",
    "version": 3
   },
   "file_extension": ".py",
   "mimetype": "text/x-python",
   "name": "python",
   "nbconvert_exporter": "python",
   "pygments_lexer": "ipython3",
   "version": "3.7.6"
  }
 },
 "nbformat": 4,
 "nbformat_minor": 4
}
