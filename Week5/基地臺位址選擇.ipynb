{
 "cells": [
  {
   "cell_type": "code",
   "execution_count": 5,
   "metadata": {},
   "outputs": [],
   "source": [
    "import math"
   ]
  },
  {
   "cell_type": "code",
   "execution_count": 8,
   "metadata": {},
   "outputs": [
    {
     "name": "stdout",
     "output_type": "stream",
     "text": [
      "8 3 3 3 -2 10 -1 1 15 -1 4 10 3 2 20 4 3 20 -3 -4 25 2 -3 15 0 2 10\n",
      "[[3, -2, 10], [-1, 1, 15], [-1, 4, 10], [3, 2, 20], [4, 3, 20], [-3, -4, 25], [2, -3, 15], [0, 2, 10]]\n"
     ]
    }
   ],
   "source": [
    "#input all the data,splited by n,p,d,dot[],num(dot seq)\n",
    "#前處理\n",
    "\n",
    "data = input().split()\n",
    "dot = []\n",
    "seq = -1\n",
    "n,p,d = 0,0,0\n",
    "for i in range(len(data)):\n",
    "    #let first 3 data = n,p,d\n",
    "    if(i <3):\n",
    "        if(i == 0):\n",
    "            n = int(data[0])\n",
    "        elif(i == 1):\n",
    "            p = int(data[1])\n",
    "        else:\n",
    "            d = int(data[2])\n",
    "        #next for loop\n",
    "        continue\n",
    "    #key in the dots\n",
    "    if(i%3 == 0):\n",
    "        dot.append([int(data[i]),0,0])\n",
    "        seq +=1\n",
    "    elif(i%3 == 1):\n",
    "        dot[seq][1] = int(data[i])\n",
    "    else:\n",
    "        dot[seq][2] = int(data[i])\n",
    "\n",
    "print(dot)"
   ]
  },
  {
   "cell_type": "code",
   "execution_count": null,
   "metadata": {},
   "outputs": [],
   "source": [
    "#main()\n",
    "\n",
    "#do p times,find out towns\n",
    "\n",
    "for i in range(p):\n",
    "    #distance\n",
    "    for j in range(n):\n",
    "        if(j == i):\n",
    "            break\n",
    "        dis = dis(dot[i][1],dot[j][1],dot[i][2],dot[j][2])\n",
    "        if(dis > d):\n",
    "            \n",
    "            "
   ]
  },
  {
   "cell_type": "code",
   "execution_count": null,
   "metadata": {},
   "outputs": [],
   "source": [
    "#compute distance\n",
    "def dis(x1,x2,y1,y2):\n",
    "    xi = pow(dot[i][1] - dot[j][1],2)\n",
    "    yi = pow(dot[i][2] - dot[j][2],2)\n",
    "    dis = pow(xi + yi,0.5)\n",
    "    return dis"
   ]
  },
  {
   "cell_type": "code",
   "execution_count": 4,
   "metadata": {},
   "outputs": [
    {
     "name": "stdout",
     "output_type": "stream",
     "text": [
      "5.830951894845301\n",
      "6.0\n",
      "5.830951894845301\n",
      "10.770329614269007\n",
      "5.0990195135927845\n",
      "10.198039027185569\n",
      "11.180339887498949\n",
      "5.385164807134504\n",
      "10.04987562112089\n",
      "1.0\n",
      "15.132745950421556\n",
      "11.180339887498949\n",
      "17.0\n",
      "7.810249675906654\n",
      "8.602325267042627\n",
      "5.0990195135927845\n",
      "4.0\n",
      "8.602325267042627\n",
      "7.0710678118654755\n",
      "7.810249675906654\n",
      "10.04987562112089\n",
      "4.0\n",
      "5.0990195135927845\n",
      "2.0\n",
      "10.0\n",
      "10.04987562112089\n",
      "16.15549442140351\n",
      "7.0710678118654755\n"
     ]
    }
   ],
   "source": [
    "#count the distance between two towns,and determing how mant people inside the area\n",
    "#dis means distance between two towns,town means which town is coverd\n",
    "#maxp to decide the position,pop means how many people are coverd\n",
    "#final means printout\n",
    "def dis(n,d,p,dot):\n",
    "    dis = 0.0\n",
    "    town = []\n",
    "    maxp = [0,0.0]\n",
    "    pop = 0\n",
    "    final = []\n",
    "    for k in range(p):\n",
    "        \n",
    "        for i in range(n):\n",
    "            #when the i th town,count distance,comperessing with d\n",
    "            #this town its own population\n",
    "            pop = dot[i][2]\n",
    "            town = []\n",
    "            for j in range(n):\n",
    "                if(j == i):\n",
    "                    break\n",
    "                xi = pow(dot[i][1] - dot[j][1],2)\n",
    "                yi = pow(dot[i][2] - dot[j][2],2)\n",
    "                dis = pow(xi + yi,0.5)\n",
    "                #if dis >= d,inside the signal area\n",
    "                if dis >= d:\n",
    "                pop += dot[j][2]\n",
    "                town.append(j)\n",
    "            #only more popular change the decision\n",
    "            if pop > maxp[1]:\n",
    "                maxp[0] = i\n",
    "                maxp[1] = pop\n",
    "                maxp.append(town)\n",
    "        final.append(maxp)\n",
    "        \n",
    "    return final"
   ]
  },
  {
   "cell_type": "code",
   "execution_count": null,
   "metadata": {},
   "outputs": [],
   "source": [
    "#print the outline\n",
    "for i in range(len(final)):\n",
    "    if(i == len(final) -2):\n",
    "        print(final[i][2])\n",
    "    print(final[i][0])\n",
    "    "
   ]
  }
 ],
 "metadata": {
  "kernelspec": {
   "display_name": "Python 3",
   "language": "python",
   "name": "python3"
  },
  "language_info": {
   "codemirror_mode": {
    "name": "ipython",
    "version": 3
   },
   "file_extension": ".py",
   "mimetype": "text/x-python",
   "name": "python",
   "nbconvert_exporter": "python",
   "pygments_lexer": "ipython3",
   "version": "3.7.6"
  }
 },
 "nbformat": 4,
 "nbformat_minor": 4
}
