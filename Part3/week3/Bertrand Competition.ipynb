{
 "cells": [
  {
   "cell_type": "code",
   "execution_count": 1,
   "metadata": {},
   "outputs": [],
   "source": [
    "class Bertrand_Competition:\n",
    "    #get the input into the class:arguments\n",
    "    def __init__(self,a,b,c1,c2,n):\n",
    "        self.a = a\n",
    "        self.b = b\n",
    "        self.c1 = c1\n",
    "        self.c2 = c2\n",
    "        self.n = n\n",
    "    \n",
    "    def iteration(self):\n",
    "        q1 = []\n",
    "        q2 = []\n",
    "        q1.append((self.a + self.c1)/2)\n",
    "        q2.append((self.a + (self.b)*q1[0] +self.c2)/2)\n",
    "        \n",
    "        for i in range(self.n):\n",
    "            new_q1 = (self.a + self.b*q2[i] + self.c1)/2\n",
    "            q1.append(new_q1)\n",
    "            new_q2 = (self.a + self.b*q1[i+1] + self.c2)/2\n",
    "            q2.append(new_q2)\n",
    "            \n",
    "        return q1[self.n],q2[self.n]\n",
    "        \n",
    "    \n",
    "    \n",
    "    \n",
    "    "
   ]
  },
  {
   "cell_type": "code",
   "execution_count": 2,
   "metadata": {},
   "outputs": [
    {
     "name": "stdout",
     "output_type": "stream",
     "text": [
      "10,0,9,9,5\n"
     ]
    }
   ],
   "source": [
    "data = input().split(',')\n",
    "model = Bertrand_Competition(int(data[0]),float(data[1]),int(data[2]),int(data[3]),int(data[4]))"
   ]
  },
  {
   "cell_type": "code",
   "execution_count": 3,
   "metadata": {},
   "outputs": [
    {
     "name": "stdout",
     "output_type": "stream",
     "text": [
      "9.50 9.50\n"
     ]
    }
   ],
   "source": [
    "print(\"%0.2f %0.2f\" % (model.iteration()))"
   ]
  },
  {
   "cell_type": "code",
   "execution_count": null,
   "metadata": {},
   "outputs": [],
   "source": []
  }
 ],
 "metadata": {
  "kernelspec": {
   "display_name": "Python 3",
   "language": "python",
   "name": "python3"
  },
  "language_info": {
   "codemirror_mode": {
    "name": "ipython",
    "version": 3
   },
   "file_extension": ".py",
   "mimetype": "text/x-python",
   "name": "python",
   "nbconvert_exporter": "python",
   "pygments_lexer": "ipython3",
   "version": "3.7.6"
  }
 },
 "nbformat": 4,
 "nbformat_minor": 4
}
