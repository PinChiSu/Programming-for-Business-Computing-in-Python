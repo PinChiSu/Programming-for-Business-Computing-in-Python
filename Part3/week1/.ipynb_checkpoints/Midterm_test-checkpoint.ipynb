{
 "cells": [
  {
   "cell_type": "code",
   "execution_count": 14,
   "metadata": {},
   "outputs": [],
   "source": [
    "import numpy as np\n",
    "import pandas as pd"
   ]
  },
  {
   "cell_type": "code",
   "execution_count": 42,
   "metadata": {},
   "outputs": [],
   "source": [
    "#var to count the data\n",
    "sub = []\n",
    "problem_result = np.zeros((4,5))\n",
    "problem_alltime = []\n",
    "\n",
    "class Submission:\n",
    "    \n",
    "    def __init__(self,problem,status,time):\n",
    "        self.problem = problem\n",
    "        self.status = status\n",
    "        self.time = time\n",
    "    \n",
    "    def problem_sta_num(self):\n",
    "        for i in range(4):\n",
    "            if(self.problem == i+1):\n",
    "                problem_result[i][self.status_type()] += 1\n",
    "        return problem_result\n",
    "    \n",
    "    def status_type(self):\n",
    "        if(self.status == 'Accepted'):\n",
    "            return 0\n",
    "        elif(self.status == 'Compile Error'):\n",
    "            return 1\n",
    "        elif(self.status == 'Runtime Error'):\n",
    "            return 2\n",
    "        elif(self.status == 'Wrong Answer'):\n",
    "            return 3\n",
    "        elif(self.status == 'Time Limit Exceed'):\n",
    "            return 4\n",
    "    \n",
    "    def time\n",
    "    \n",
    "    "
   ]
  },
  {
   "cell_type": "code",
   "execution_count": 52,
   "metadata": {},
   "outputs": [
    {
     "data": {
      "text/html": [
       "<div>\n",
       "<style scoped>\n",
       "    .dataframe tbody tr th:only-of-type {\n",
       "        vertical-align: middle;\n",
       "    }\n",
       "\n",
       "    .dataframe tbody tr th {\n",
       "        vertical-align: top;\n",
       "    }\n",
       "\n",
       "    .dataframe thead th {\n",
       "        text-align: right;\n",
       "    }\n",
       "</style>\n",
       "<table border=\"1\" class=\"dataframe\">\n",
       "  <thead>\n",
       "    <tr style=\"text-align: right;\">\n",
       "      <th></th>\n",
       "      <th>SubmissionID</th>\n",
       "      <th>StudentID</th>\n",
       "      <th>Problem</th>\n",
       "      <th>Status</th>\n",
       "      <th>Score</th>\n",
       "      <th>CodeLength</th>\n",
       "      <th>SubmissionTime</th>\n",
       "    </tr>\n",
       "  </thead>\n",
       "  <tbody>\n",
       "    <tr>\n",
       "      <th>0</th>\n",
       "      <td>43629</td>\n",
       "      <td>7</td>\n",
       "      <td>4</td>\n",
       "      <td>Runtime Error</td>\n",
       "      <td>0</td>\n",
       "      <td>879</td>\n",
       "      <td>12:20:52</td>\n",
       "    </tr>\n",
       "    <tr>\n",
       "      <th>1</th>\n",
       "      <td>43628</td>\n",
       "      <td>31</td>\n",
       "      <td>3</td>\n",
       "      <td>Runtime Error</td>\n",
       "      <td>0</td>\n",
       "      <td>521</td>\n",
       "      <td>12:20:38</td>\n",
       "    </tr>\n",
       "    <tr>\n",
       "      <th>2</th>\n",
       "      <td>43627</td>\n",
       "      <td>106</td>\n",
       "      <td>2</td>\n",
       "      <td>Wrong Answer</td>\n",
       "      <td>0</td>\n",
       "      <td>10</td>\n",
       "      <td>12:20:27</td>\n",
       "    </tr>\n",
       "    <tr>\n",
       "      <th>3</th>\n",
       "      <td>43626</td>\n",
       "      <td>101</td>\n",
       "      <td>4</td>\n",
       "      <td>Wrong Answer</td>\n",
       "      <td>0</td>\n",
       "      <td>2330</td>\n",
       "      <td>12:20:27</td>\n",
       "    </tr>\n",
       "  </tbody>\n",
       "</table>\n",
       "</div>"
      ],
      "text/plain": [
       "   SubmissionID  StudentID  Problem         Status  Score  CodeLength  \\\n",
       "0         43629          7        4  Runtime Error      0         879   \n",
       "1         43628         31        3  Runtime Error      0         521   \n",
       "2         43627        106        2   Wrong Answer      0          10   \n",
       "3         43626        101        4   Wrong Answer      0        2330   \n",
       "\n",
       "  SubmissionTime  \n",
       "0       12:20:52  \n",
       "1       12:20:38  \n",
       "2       12:20:27  \n",
       "3       12:20:27  "
      ]
     },
     "execution_count": 52,
     "metadata": {},
     "output_type": "execute_result"
    }
   ],
   "source": [
    "df = pd.read_csv('midterm.csv')"
   ]
  },
  {
   "cell_type": "code",
   "execution_count": 43,
   "metadata": {},
   "outputs": [
    {
     "name": "stdout",
     "output_type": "stream",
     "text": [
      "[[1. 0. 0. 0. 0.]\n",
      " [0. 0. 0. 0. 0.]\n",
      " [0. 0. 0. 0. 0.]\n",
      " [0. 0. 0. 0. 0.]]\n",
      "[[1. 0. 0. 0. 0.]\n",
      " [0. 0. 0. 0. 0.]\n",
      " [0. 0. 0. 0. 0.]\n",
      " [0. 0. 0. 0. 0.]]\n",
      "[[1. 0. 0. 0. 0.]\n",
      " [0. 0. 0. 0. 0.]\n",
      " [0. 0. 0. 0. 0.]\n",
      " [0. 0. 0. 0. 0.]]\n",
      "[[1. 0. 0. 0. 0.]\n",
      " [0. 0. 0. 0. 0.]\n",
      " [0. 0. 0. 0. 0.]\n",
      " [0. 0. 0. 0. 0.]]\n",
      "[[1. 0. 0. 0. 0.]\n",
      " [0. 0. 0. 0. 0.]\n",
      " [0. 0. 0. 0. 0.]\n",
      " [0. 0. 0. 0. 0.]]\n"
     ]
    }
   ],
   "source": [
    "s1 = Submission(1,'Accepted',2)\n",
    "print(s1.problem_sta_num())"
   ]
  },
  {
   "cell_type": "code",
   "execution_count": null,
   "metadata": {},
   "outputs": [],
   "source": [
    "###3"
   ]
  },
  {
   "cell_type": "code",
   "execution_count": null,
   "metadata": {},
   "outputs": [],
   "source": []
  }
 ],
 "metadata": {
  "kernelspec": {
   "display_name": "Python 3",
   "language": "python",
   "name": "python3"
  },
  "language_info": {
   "codemirror_mode": {
    "name": "ipython",
    "version": 3
   },
   "file_extension": ".py",
   "mimetype": "text/x-python",
   "name": "python",
   "nbconvert_exporter": "python",
   "pygments_lexer": "ipython3",
   "version": "3.7.6"
  }
 },
 "nbformat": 4,
 "nbformat_minor": 4
}
