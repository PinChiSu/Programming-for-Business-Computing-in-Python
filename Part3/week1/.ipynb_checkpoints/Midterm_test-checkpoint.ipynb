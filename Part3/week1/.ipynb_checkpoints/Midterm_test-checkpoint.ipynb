{
 "cells": [
  {
   "cell_type": "code",
   "execution_count": 1,
   "metadata": {},
   "outputs": [],
   "source": [
    "import numpy as np\n",
    "import pandas as pd\n",
    "import datetime"
   ]
  },
  {
   "cell_type": "code",
   "execution_count": 2,
   "metadata": {},
   "outputs": [],
   "source": [
    "#var to count the data\n",
    "sub = []\n",
    "problem_result = np.zeros((4,5))\n",
    "\n",
    "class Submission:\n",
    "    \n",
    "    def __init__(self,sub_id,problem,status,time):\n",
    "        self.sub_id = sub_id\n",
    "        self.problem = problem\n",
    "        self.status = status\n",
    "        self.time = time\n",
    "    \n",
    "    def problem_sta_num(self):\n",
    "        for i in range(4):\n",
    "            if(self.problem == i+1):\n",
    "                problem_result[i][self.status_type()] += 1\n",
    "        return problem_result\n",
    "    \n",
    "    def status_type(self):\n",
    "        if(self.status == 'Accepted'):\n",
    "            return 0\n",
    "        elif(self.status == 'Compile Error'):\n",
    "            return 1\n",
    "        elif(self.status == 'Runtime Error'):\n",
    "            return 2\n",
    "        elif(self.status == 'Wrong Answer'):\n",
    "            return 4\n",
    "        elif(self.status == 'Time Limit Exceed'):\n",
    "            return 3\n",
    "    \n",
    "    def time_trans(self):\n",
    "        t = self.time.split(':')\n",
    "        d = datetime.datetime(2020,4,18,int(t[0]),int(t[1]),int(t[2]))\n",
    "        return d\n",
    "    "
   ]
  },
  {
   "cell_type": "code",
   "execution_count": 3,
   "metadata": {},
   "outputs": [],
   "source": [
    "#load the data,let each submission is a object \n",
    "df = pd.read_csv('midterm.csv')\n",
    "\n",
    "for i in range(df.shape[0]):\n",
    "    if(len(sub) < df.shape[0]):\n",
    "        a = Submission(df['SubmissionID'][i],df['Problem'][i],df['Status'][i],df['SubmissionTime'][i])\n",
    "        a.time_trans()\n",
    "        sub.append(a)\n",
    "        \n",
    "\n",
    "    "
   ]
  },
  {
   "cell_type": "code",
   "execution_count": 4,
   "metadata": {},
   "outputs": [],
   "source": [
    "class test_data():\n",
    "    \n",
    "    def __init__(self,input_data):\n",
    "        self.input_data = input_data\n",
    "    \n",
    "    def start_time(self):\n",
    "        st = (self.input_data.split(' ')[0]).split(':')\n",
    "        d_st = datetime.datetime(2020,4,18,int(st[0]),int(st[1]),int(st[2]))\n",
    "        return d_st\n",
    "    \n",
    "    def end_time(self):\n",
    "        et = (self.input_data.split(' ')[1]).split(':')\n",
    "        d_et = datetime.datetime(2020,4,18,int(et[0]),int(et[1]),int(et[2]))\n",
    "        return d_et\n",
    "    \n",
    "    def time_diff(self):\n",
    "        diff = self.end_time() - self.start_time()\n",
    "        return diff\n",
    "        \n",
    "        "
   ]
  },
  {
   "cell_type": "code",
   "execution_count": 5,
   "metadata": {},
   "outputs": [
    {
     "name": "stdout",
     "output_type": "stream",
     "text": [
      "09:20:20 12:20:20\n"
     ]
    }
   ],
   "source": [
    "input_data = input()\n",
    "data1 = test_data(input_data)\n"
   ]
  },
  {
   "cell_type": "code",
   "execution_count": 6,
   "metadata": {},
   "outputs": [],
   "source": [
    "#static func. to calculate the time diff\n",
    "def time_d(sub_time,start_time,input_diff):\n",
    "    dif = sub_time - start_time\n",
    "    #print(dif)\n",
    "    #print(dif.days)\n",
    "    if(dif <= input_diff and dif.days == 0):\n",
    "        return True\n",
    "    else:\n",
    "        return False"
   ]
  },
  {
   "cell_type": "code",
   "execution_count": 7,
   "metadata": {},
   "outputs": [],
   "source": [
    "#print(data1.time_diff())\n",
    "#d_test = datetime.datetime(2020,4,18,10,11,25)\n",
    "#(d_test - data1.start_time()) < data1.time_diff()"
   ]
  },
  {
   "cell_type": "code",
   "execution_count": 8,
   "metadata": {},
   "outputs": [],
   "source": [
    "#compare the time delta whether in the time range\n",
    "for i in range(len(sub)):\n",
    "    test = time_d(sub[i].time_trans(),data1.start_time(),data1.time_diff())\n",
    "    #print(test)\n",
    "    #print(\"==\")\n",
    "    #print(sub[i].time_trans())\n",
    "    if(test == 1):\n",
    "        sub[i].problem_sta_num()\n",
    "        #print(problem_result)\n",
    "        #print(\"=============\")\n",
    "    "
   ]
  },
  {
   "cell_type": "code",
   "execution_count": 9,
   "metadata": {},
   "outputs": [
    {
     "name": "stdout",
     "output_type": "stream",
     "text": [
      "88 6 6 0 21;24 5 22 1 66;49 2 34 0 88;62 4 64 0 80;"
     ]
    }
   ],
   "source": [
    "#print the result\n",
    "result = problem_result.tolist()\n",
    "for i in range(len(result)):\n",
    "    for j in range(len(result[i])):\n",
    "        if(j == len(result[i])-1):\n",
    "            print(int(result[i][j]), end=';')\n",
    "        else:\n",
    "            print(int(result[i][j]), end=' ')\n",
    "        "
   ]
  },
  {
   "cell_type": "code",
   "execution_count": null,
   "metadata": {},
   "outputs": [],
   "source": []
  }
 ],
 "metadata": {
  "kernelspec": {
   "display_name": "Python 3",
   "language": "python",
   "name": "python3"
  },
  "language_info": {
   "codemirror_mode": {
    "name": "ipython",
    "version": 3
   },
   "file_extension": ".py",
   "mimetype": "text/x-python",
   "name": "python",
   "nbconvert_exporter": "python",
   "pygments_lexer": "ipython3",
   "version": "3.7.6"
  }
 },
 "nbformat": 4,
 "nbformat_minor": 4
}
